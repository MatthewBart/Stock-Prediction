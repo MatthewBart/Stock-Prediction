{
 "cells": [
  {
   "cell_type": "markdown",
   "id": "c2ed8b20",
   "metadata": {},
   "source": [
    "Machine Learning Model used for predicting S&P500 index prices\n",
    "that backtests against historical data for more accurate predicting\n",
    "\n",
    "Uses Netflix as its example"
   ]
  },
  {
   "cell_type": "code",
   "execution_count": 1,
   "id": "582d0926",
   "metadata": {},
   "outputs": [],
   "source": [
    "# Imports\n",
    "\n",
    "# RandomForestClasifier trains multiple trees with \n",
    "# randomised parameters then averages the results\n",
    "\n",
    "# Precision Score for measuring how accurate our results are\n",
    "import yfinance as yf\n",
    "import pandas as pd\n",
    "from sklearn.ensemble import RandomForestClassifier as rfc\n",
    "from sklearn.metrics import precision_score"
   ]
  },
  {
   "cell_type": "markdown",
   "id": "8b8ce231",
   "metadata": {},
   "source": [
    "Query all data from Netflix data from when it was initially created"
   ]
  },
  {
   "cell_type": "code",
   "execution_count": 92,
   "id": "72c1a03b",
   "metadata": {},
   "outputs": [],
   "source": [
    "sp500 = yf.Ticker(\"NFLX\")\n",
    "sp500=sp500.history(period=\"max\").copy()"
   ]
  },
  {
   "cell_type": "code",
   "execution_count": 93,
   "id": "7b2bda11",
   "metadata": {},
   "outputs": [],
   "source": [
    "#Remove unncecessary data \n",
    "del sp500[\"Dividends\"]\n",
    "del sp500[\"Stock Splits\"]"
   ]
  },
  {
   "cell_type": "code",
   "execution_count": 94,
   "id": "d4e99b47",
   "metadata": {},
   "outputs": [
    {
     "data": {
      "text/html": [
       "<div>\n",
       "<style scoped>\n",
       "    .dataframe tbody tr th:only-of-type {\n",
       "        vertical-align: middle;\n",
       "    }\n",
       "\n",
       "    .dataframe tbody tr th {\n",
       "        vertical-align: top;\n",
       "    }\n",
       "\n",
       "    .dataframe thead th {\n",
       "        text-align: right;\n",
       "    }\n",
       "</style>\n",
       "<table border=\"1\" class=\"dataframe\">\n",
       "  <thead>\n",
       "    <tr style=\"text-align: right;\">\n",
       "      <th></th>\n",
       "      <th>Open</th>\n",
       "      <th>High</th>\n",
       "      <th>Low</th>\n",
       "      <th>Close</th>\n",
       "      <th>Volume</th>\n",
       "    </tr>\n",
       "    <tr>\n",
       "      <th>Date</th>\n",
       "      <th></th>\n",
       "      <th></th>\n",
       "      <th></th>\n",
       "      <th></th>\n",
       "      <th></th>\n",
       "    </tr>\n",
       "  </thead>\n",
       "  <tbody>\n",
       "    <tr>\n",
       "      <th>2002-05-23 00:00:00-04:00</th>\n",
       "      <td>1.156429</td>\n",
       "      <td>1.242857</td>\n",
       "      <td>1.145714</td>\n",
       "      <td>1.196429</td>\n",
       "      <td>104790000</td>\n",
       "    </tr>\n",
       "    <tr>\n",
       "      <th>2002-05-24 00:00:00-04:00</th>\n",
       "      <td>1.214286</td>\n",
       "      <td>1.225000</td>\n",
       "      <td>1.197143</td>\n",
       "      <td>1.210000</td>\n",
       "      <td>11104800</td>\n",
       "    </tr>\n",
       "    <tr>\n",
       "      <th>2002-05-28 00:00:00-04:00</th>\n",
       "      <td>1.213571</td>\n",
       "      <td>1.232143</td>\n",
       "      <td>1.157143</td>\n",
       "      <td>1.157143</td>\n",
       "      <td>6609400</td>\n",
       "    </tr>\n",
       "    <tr>\n",
       "      <th>2002-05-29 00:00:00-04:00</th>\n",
       "      <td>1.164286</td>\n",
       "      <td>1.164286</td>\n",
       "      <td>1.085714</td>\n",
       "      <td>1.103571</td>\n",
       "      <td>6757800</td>\n",
       "    </tr>\n",
       "    <tr>\n",
       "      <th>2002-05-30 00:00:00-04:00</th>\n",
       "      <td>1.107857</td>\n",
       "      <td>1.107857</td>\n",
       "      <td>1.071429</td>\n",
       "      <td>1.071429</td>\n",
       "      <td>10154200</td>\n",
       "    </tr>\n",
       "    <tr>\n",
       "      <th>...</th>\n",
       "      <td>...</td>\n",
       "      <td>...</td>\n",
       "      <td>...</td>\n",
       "      <td>...</td>\n",
       "      <td>...</td>\n",
       "    </tr>\n",
       "    <tr>\n",
       "      <th>2022-10-14 00:00:00-04:00</th>\n",
       "      <td>237.800003</td>\n",
       "      <td>238.800003</td>\n",
       "      <td>229.509995</td>\n",
       "      <td>230.000000</td>\n",
       "      <td>15275700</td>\n",
       "    </tr>\n",
       "    <tr>\n",
       "      <th>2022-10-17 00:00:00-04:00</th>\n",
       "      <td>234.410004</td>\n",
       "      <td>249.919998</td>\n",
       "      <td>234.399994</td>\n",
       "      <td>245.100006</td>\n",
       "      <td>21057800</td>\n",
       "    </tr>\n",
       "    <tr>\n",
       "      <th>2022-10-18 00:00:00-04:00</th>\n",
       "      <td>249.800003</td>\n",
       "      <td>250.369995</td>\n",
       "      <td>237.729996</td>\n",
       "      <td>240.860001</td>\n",
       "      <td>25776700</td>\n",
       "    </tr>\n",
       "    <tr>\n",
       "      <th>2022-10-19 00:00:00-04:00</th>\n",
       "      <td>265.000000</td>\n",
       "      <td>279.299988</td>\n",
       "      <td>262.660004</td>\n",
       "      <td>272.380005</td>\n",
       "      <td>46685300</td>\n",
       "    </tr>\n",
       "    <tr>\n",
       "      <th>2022-10-20 00:00:00-04:00</th>\n",
       "      <td>272.779999</td>\n",
       "      <td>278.380005</td>\n",
       "      <td>266.380005</td>\n",
       "      <td>268.160004</td>\n",
       "      <td>17183700</td>\n",
       "    </tr>\n",
       "  </tbody>\n",
       "</table>\n",
       "<p>5140 rows × 5 columns</p>\n",
       "</div>"
      ],
      "text/plain": [
       "                                 Open        High         Low       Close  \\\n",
       "Date                                                                        \n",
       "2002-05-23 00:00:00-04:00    1.156429    1.242857    1.145714    1.196429   \n",
       "2002-05-24 00:00:00-04:00    1.214286    1.225000    1.197143    1.210000   \n",
       "2002-05-28 00:00:00-04:00    1.213571    1.232143    1.157143    1.157143   \n",
       "2002-05-29 00:00:00-04:00    1.164286    1.164286    1.085714    1.103571   \n",
       "2002-05-30 00:00:00-04:00    1.107857    1.107857    1.071429    1.071429   \n",
       "...                               ...         ...         ...         ...   \n",
       "2022-10-14 00:00:00-04:00  237.800003  238.800003  229.509995  230.000000   \n",
       "2022-10-17 00:00:00-04:00  234.410004  249.919998  234.399994  245.100006   \n",
       "2022-10-18 00:00:00-04:00  249.800003  250.369995  237.729996  240.860001   \n",
       "2022-10-19 00:00:00-04:00  265.000000  279.299988  262.660004  272.380005   \n",
       "2022-10-20 00:00:00-04:00  272.779999  278.380005  266.380005  268.160004   \n",
       "\n",
       "                              Volume  \n",
       "Date                                  \n",
       "2002-05-23 00:00:00-04:00  104790000  \n",
       "2002-05-24 00:00:00-04:00   11104800  \n",
       "2002-05-28 00:00:00-04:00    6609400  \n",
       "2002-05-29 00:00:00-04:00    6757800  \n",
       "2002-05-30 00:00:00-04:00   10154200  \n",
       "...                              ...  \n",
       "2022-10-14 00:00:00-04:00   15275700  \n",
       "2022-10-17 00:00:00-04:00   21057800  \n",
       "2022-10-18 00:00:00-04:00   25776700  \n",
       "2022-10-19 00:00:00-04:00   46685300  \n",
       "2022-10-20 00:00:00-04:00   17183700  \n",
       "\n",
       "[5140 rows x 5 columns]"
      ]
     },
     "execution_count": 94,
     "metadata": {},
     "output_type": "execute_result"
    }
   ],
   "source": [
    "#Show Data\n",
    "sp500"
   ]
  },
  {
   "cell_type": "code",
   "execution_count": 95,
   "id": "01250acc",
   "metadata": {},
   "outputs": [
    {
     "data": {
      "text/plain": [
       "DatetimeIndex(['2002-05-23 00:00:00-04:00', '2002-05-24 00:00:00-04:00',\n",
       "               '2002-05-28 00:00:00-04:00', '2002-05-29 00:00:00-04:00',\n",
       "               '2002-05-30 00:00:00-04:00', '2002-05-31 00:00:00-04:00',\n",
       "               '2002-06-03 00:00:00-04:00', '2002-06-04 00:00:00-04:00',\n",
       "               '2002-06-05 00:00:00-04:00', '2002-06-06 00:00:00-04:00',\n",
       "               ...\n",
       "               '2022-10-07 00:00:00-04:00', '2022-10-10 00:00:00-04:00',\n",
       "               '2022-10-11 00:00:00-04:00', '2022-10-12 00:00:00-04:00',\n",
       "               '2022-10-13 00:00:00-04:00', '2022-10-14 00:00:00-04:00',\n",
       "               '2022-10-17 00:00:00-04:00', '2022-10-18 00:00:00-04:00',\n",
       "               '2022-10-19 00:00:00-04:00', '2022-10-20 00:00:00-04:00'],\n",
       "              dtype='datetime64[ns, America/New_York]', name='Date', length=5140, freq=None)"
      ]
     },
     "execution_count": 95,
     "metadata": {},
     "output_type": "execute_result"
    }
   ],
   "source": [
    "# Check Index\n",
    "sp500.index"
   ]
  },
  {
   "cell_type": "markdown",
   "id": "d4012732",
   "metadata": {},
   "source": [
    "Cleaning/presenting the data then setting up the target to predict whether the price will rise or fall the next day"
   ]
  },
  {
   "cell_type": "code",
   "execution_count": 96,
   "id": "a2f4e1eb",
   "metadata": {},
   "outputs": [
    {
     "data": {
      "text/plain": [
       "<AxesSubplot:xlabel='Date'>"
      ]
     },
     "execution_count": 96,
     "metadata": {},
     "output_type": "execute_result"
    },
    {
     "data": {
      "image/png": "[encoded data removed]",
      "text/plain": [
       "<Figure size 432x288 with 1 Axes>"
      ]
     },
     "metadata": {
      "needs_background": "light"
     },
     "output_type": "display_data"
    }
   ],
   "source": [
    "# Plot closing price agaisnt the training dates\n",
    "sp500.plot.line(y=\"Close\", use_index=True)"
   ]
  },
  {
   "cell_type": "code",
   "execution_count": 97,
   "id": "695db93d",
   "metadata": {},
   "outputs": [],
   "source": [
    "# New column that shows todays price as the prior days tomorrow price\n",
    "sp500[\"Tomorrow\"]=sp500[\"Close\"].shift(-1)"
   ]
  },
  {
   "cell_type": "code",
   "execution_count": 98,
   "id": "2f9c1281",
   "metadata": {},
   "outputs": [],
   "source": [
    "# Check if tomorrows price is greater than the current price\n",
    "sp500[\"Target\"] = (sp500[\"Tomorrow\"]>sp500[\"Close\"]).astype(int)"
   ]
  },
  {
   "cell_type": "code",
   "execution_count": 99,
   "id": "5a07a372",
   "metadata": {},
   "outputs": [
    {
     "data": {
      "text/html": [
       "<div>\n",
       "<style scoped>\n",
       "    .dataframe tbody tr th:only-of-type {\n",
       "        vertical-align: middle;\n",
       "    }\n",
       "\n",
       "    .dataframe tbody tr th {\n",
       "        vertical-align: top;\n",
       "    }\n",
       "\n",
       "    .dataframe thead th {\n",
       "        text-align: right;\n",
       "    }\n",
       "</style>\n",
       "<table border=\"1\" class=\"dataframe\">\n",
       "  <thead>\n",
       "    <tr style=\"text-align: right;\">\n",
       "      <th></th>\n",
       "      <th>Open</th>\n",
       "      <th>High</th>\n",
       "      <th>Low</th>\n",
       "      <th>Close</th>\n",
       "      <th>Volume</th>\n",
       "      <th>Tomorrow</th>\n",
       "      <th>Target</th>\n",
       "    </tr>\n",
       "    <tr>\n",
       "      <th>Date</th>\n",
       "      <th></th>\n",
       "      <th></th>\n",
       "      <th></th>\n",
       "      <th></th>\n",
       "      <th></th>\n",
       "      <th></th>\n",
       "      <th></th>\n",
       "    </tr>\n",
       "  </thead>\n",
       "  <tbody>\n",
       "    <tr>\n",
       "      <th>2002-05-23 00:00:00-04:00</th>\n",
       "      <td>1.156429</td>\n",
       "      <td>1.242857</td>\n",
       "      <td>1.145714</td>\n",
       "      <td>1.196429</td>\n",
       "      <td>104790000</td>\n",
       "      <td>1.210000</td>\n",
       "      <td>1</td>\n",
       "    </tr>\n",
       "    <tr>\n",
       "      <th>2002-05-24 00:00:00-04:00</th>\n",
       "      <td>1.214286</td>\n",
       "      <td>1.225000</td>\n",
       "      <td>1.197143</td>\n",
       "      <td>1.210000</td>\n",
       "      <td>11104800</td>\n",
       "      <td>1.157143</td>\n",
       "      <td>0</td>\n",
       "    </tr>\n",
       "    <tr>\n",
       "      <th>2002-05-28 00:00:00-04:00</th>\n",
       "      <td>1.213571</td>\n",
       "      <td>1.232143</td>\n",
       "      <td>1.157143</td>\n",
       "      <td>1.157143</td>\n",
       "      <td>6609400</td>\n",
       "      <td>1.103571</td>\n",
       "      <td>0</td>\n",
       "    </tr>\n",
       "    <tr>\n",
       "      <th>2002-05-29 00:00:00-04:00</th>\n",
       "      <td>1.164286</td>\n",
       "      <td>1.164286</td>\n",
       "      <td>1.085714</td>\n",
       "      <td>1.103571</td>\n",
       "      <td>6757800</td>\n",
       "      <td>1.071429</td>\n",
       "      <td>0</td>\n",
       "    </tr>\n",
       "    <tr>\n",
       "      <th>2002-05-30 00:00:00-04:00</th>\n",
       "      <td>1.107857</td>\n",
       "      <td>1.107857</td>\n",
       "      <td>1.071429</td>\n",
       "      <td>1.071429</td>\n",
       "      <td>10154200</td>\n",
       "      <td>1.076429</td>\n",
       "      <td>1</td>\n",
       "    </tr>\n",
       "    <tr>\n",
       "      <th>...</th>\n",
       "      <td>...</td>\n",
       "      <td>...</td>\n",
       "      <td>...</td>\n",
       "      <td>...</td>\n",
       "      <td>...</td>\n",
       "      <td>...</td>\n",
       "      <td>...</td>\n",
       "    </tr>\n",
       "    <tr>\n",
       "      <th>2022-10-14 00:00:00-04:00</th>\n",
       "      <td>237.800003</td>\n",
       "      <td>238.800003</td>\n",
       "      <td>229.509995</td>\n",
       "      <td>230.000000</td>\n",
       "      <td>15275700</td>\n",
       "      <td>245.100006</td>\n",
       "      <td>1</td>\n",
       "    </tr>\n",
       "    <tr>\n",
       "      <th>2022-10-17 00:00:00-04:00</th>\n",
       "      <td>234.410004</td>\n",
       "      <td>249.919998</td>\n",
       "      <td>234.399994</td>\n",
       "      <td>245.100006</td>\n",
       "      <td>21057800</td>\n",
       "      <td>240.860001</td>\n",
       "      <td>0</td>\n",
       "    </tr>\n",
       "    <tr>\n",
       "      <th>2022-10-18 00:00:00-04:00</th>\n",
       "      <td>249.800003</td>\n",
       "      <td>250.369995</td>\n",
       "      <td>237.729996</td>\n",
       "      <td>240.860001</td>\n",
       "      <td>25776700</td>\n",
       "      <td>272.380005</td>\n",
       "      <td>1</td>\n",
       "    </tr>\n",
       "    <tr>\n",
       "      <th>2022-10-19 00:00:00-04:00</th>\n",
       "      <td>265.000000</td>\n",
       "      <td>279.299988</td>\n",
       "      <td>262.660004</td>\n",
       "      <td>272.380005</td>\n",
       "      <td>46685300</td>\n",
       "      <td>268.160004</td>\n",
       "      <td>0</td>\n",
       "    </tr>\n",
       "    <tr>\n",
       "      <th>2022-10-20 00:00:00-04:00</th>\n",
       "      <td>272.779999</td>\n",
       "      <td>278.380005</td>\n",
       "      <td>266.380005</td>\n",
       "      <td>268.160004</td>\n",
       "      <td>17183700</td>\n",
       "      <td>NaN</td>\n",
       "      <td>0</td>\n",
       "    </tr>\n",
       "  </tbody>\n",
       "</table>\n",
       "<p>5140 rows × 7 columns</p>\n",
       "</div>"
      ],
      "text/plain": [
       "                                 Open        High         Low       Close  \\\n",
       "Date                                                                        \n",
       "2002-05-23 00:00:00-04:00    1.156429    1.242857    1.145714    1.196429   \n",
       "2002-05-24 00:00:00-04:00    1.214286    1.225000    1.197143    1.210000   \n",
       "2002-05-28 00:00:00-04:00    1.213571    1.232143    1.157143    1.157143   \n",
       "2002-05-29 00:00:00-04:00    1.164286    1.164286    1.085714    1.103571   \n",
       "2002-05-30 00:00:00-04:00    1.107857    1.107857    1.071429    1.071429   \n",
       "...                               ...         ...         ...         ...   \n",
       "2022-10-14 00:00:00-04:00  237.800003  238.800003  229.509995  230.000000   \n",
       "2022-10-17 00:00:00-04:00  234.410004  249.919998  234.399994  245.100006   \n",
       "2022-10-18 00:00:00-04:00  249.800003  250.369995  237.729996  240.860001   \n",
       "2022-10-19 00:00:00-04:00  265.000000  279.299988  262.660004  272.380005   \n",
       "2022-10-20 00:00:00-04:00  272.779999  278.380005  266.380005  268.160004   \n",
       "\n",
       "                              Volume    Tomorrow  Target  \n",
       "Date                                                      \n",
       "2002-05-23 00:00:00-04:00  104790000    1.210000       1  \n",
       "2002-05-24 00:00:00-04:00   11104800    1.157143       0  \n",
       "2002-05-28 00:00:00-04:00    6609400    1.103571       0  \n",
       "2002-05-29 00:00:00-04:00    6757800    1.071429       0  \n",
       "2002-05-30 00:00:00-04:00   10154200    1.076429       1  \n",
       "...                              ...         ...     ...  \n",
       "2022-10-14 00:00:00-04:00   15275700  245.100006       1  \n",
       "2022-10-17 00:00:00-04:00   21057800  240.860001       0  \n",
       "2022-10-18 00:00:00-04:00   25776700  272.380005       1  \n",
       "2022-10-19 00:00:00-04:00   46685300  268.160004       0  \n",
       "2022-10-20 00:00:00-04:00   17183700         NaN       0  \n",
       "\n",
       "[5140 rows x 7 columns]"
      ]
     },
     "execution_count": 99,
     "metadata": {},
     "output_type": "execute_result"
    }
   ],
   "source": [
    "sp500"
   ]
  },
  {
   "cell_type": "code",
   "execution_count": 100,
   "id": "f16b5081",
   "metadata": {},
   "outputs": [],
   "source": [
    "# Only take rows from the last 20 years\n",
    "# This is for a more accurate training set for the current SP500 price\n",
    "sp500 = sp500.loc[\"2002-01-01\":].copy()"
   ]
  },
  {
   "cell_type": "code",
   "execution_count": 101,
   "id": "e7e92456",
   "metadata": {
    "scrolled": true
   },
   "outputs": [
    {
     "data": {
      "text/html": [
       "<div>\n",
       "<style scoped>\n",
       "    .dataframe tbody tr th:only-of-type {\n",
       "        vertical-align: middle;\n",
       "    }\n",
       "\n",
       "    .dataframe tbody tr th {\n",
       "        vertical-align: top;\n",
       "    }\n",
       "\n",
       "    .dataframe thead th {\n",
       "        text-align: right;\n",
       "    }\n",
       "</style>\n",
       "<table border=\"1\" class=\"dataframe\">\n",
       "  <thead>\n",
       "    <tr style=\"text-align: right;\">\n",
       "      <th></th>\n",
       "      <th>Open</th>\n",
       "      <th>High</th>\n",
       "      <th>Low</th>\n",
       "      <th>Close</th>\n",
       "      <th>Volume</th>\n",
       "      <th>Tomorrow</th>\n",
       "      <th>Target</th>\n",
       "    </tr>\n",
       "    <tr>\n",
       "      <th>Date</th>\n",
       "      <th></th>\n",
       "      <th></th>\n",
       "      <th></th>\n",
       "      <th></th>\n",
       "      <th></th>\n",
       "      <th></th>\n",
       "      <th></th>\n",
       "    </tr>\n",
       "  </thead>\n",
       "  <tbody>\n",
       "    <tr>\n",
       "      <th>2002-05-23 00:00:00-04:00</th>\n",
       "      <td>1.156429</td>\n",
       "      <td>1.242857</td>\n",
       "      <td>1.145714</td>\n",
       "      <td>1.196429</td>\n",
       "      <td>104790000</td>\n",
       "      <td>1.210000</td>\n",
       "      <td>1</td>\n",
       "    </tr>\n",
       "    <tr>\n",
       "      <th>2002-05-24 00:00:00-04:00</th>\n",
       "      <td>1.214286</td>\n",
       "      <td>1.225000</td>\n",
       "      <td>1.197143</td>\n",
       "      <td>1.210000</td>\n",
       "      <td>11104800</td>\n",
       "      <td>1.157143</td>\n",
       "      <td>0</td>\n",
       "    </tr>\n",
       "    <tr>\n",
       "      <th>2002-05-28 00:00:00-04:00</th>\n",
       "      <td>1.213571</td>\n",
       "      <td>1.232143</td>\n",
       "      <td>1.157143</td>\n",
       "      <td>1.157143</td>\n",
       "      <td>6609400</td>\n",
       "      <td>1.103571</td>\n",
       "      <td>0</td>\n",
       "    </tr>\n",
       "    <tr>\n",
       "      <th>2002-05-29 00:00:00-04:00</th>\n",
       "      <td>1.164286</td>\n",
       "      <td>1.164286</td>\n",
       "      <td>1.085714</td>\n",
       "      <td>1.103571</td>\n",
       "      <td>6757800</td>\n",
       "      <td>1.071429</td>\n",
       "      <td>0</td>\n",
       "    </tr>\n",
       "    <tr>\n",
       "      <th>2002-05-30 00:00:00-04:00</th>\n",
       "      <td>1.107857</td>\n",
       "      <td>1.107857</td>\n",
       "      <td>1.071429</td>\n",
       "      <td>1.071429</td>\n",
       "      <td>10154200</td>\n",
       "      <td>1.076429</td>\n",
       "      <td>1</td>\n",
       "    </tr>\n",
       "    <tr>\n",
       "      <th>...</th>\n",
       "      <td>...</td>\n",
       "      <td>...</td>\n",
       "      <td>...</td>\n",
       "      <td>...</td>\n",
       "      <td>...</td>\n",
       "      <td>...</td>\n",
       "      <td>...</td>\n",
       "    </tr>\n",
       "    <tr>\n",
       "      <th>2022-10-14 00:00:00-04:00</th>\n",
       "      <td>237.800003</td>\n",
       "      <td>238.800003</td>\n",
       "      <td>229.509995</td>\n",
       "      <td>230.000000</td>\n",
       "      <td>15275700</td>\n",
       "      <td>245.100006</td>\n",
       "      <td>1</td>\n",
       "    </tr>\n",
       "    <tr>\n",
       "      <th>2022-10-17 00:00:00-04:00</th>\n",
       "      <td>234.410004</td>\n",
       "      <td>249.919998</td>\n",
       "      <td>234.399994</td>\n",
       "      <td>245.100006</td>\n",
       "      <td>21057800</td>\n",
       "      <td>240.860001</td>\n",
       "      <td>0</td>\n",
       "    </tr>\n",
       "    <tr>\n",
       "      <th>2022-10-18 00:00:00-04:00</th>\n",
       "      <td>249.800003</td>\n",
       "      <td>250.369995</td>\n",
       "      <td>237.729996</td>\n",
       "      <td>240.860001</td>\n",
       "      <td>25776700</td>\n",
       "      <td>272.380005</td>\n",
       "      <td>1</td>\n",
       "    </tr>\n",
       "    <tr>\n",
       "      <th>2022-10-19 00:00:00-04:00</th>\n",
       "      <td>265.000000</td>\n",
       "      <td>279.299988</td>\n",
       "      <td>262.660004</td>\n",
       "      <td>272.380005</td>\n",
       "      <td>46685300</td>\n",
       "      <td>268.160004</td>\n",
       "      <td>0</td>\n",
       "    </tr>\n",
       "    <tr>\n",
       "      <th>2022-10-20 00:00:00-04:00</th>\n",
       "      <td>272.779999</td>\n",
       "      <td>278.380005</td>\n",
       "      <td>266.380005</td>\n",
       "      <td>268.160004</td>\n",
       "      <td>17183700</td>\n",
       "      <td>NaN</td>\n",
       "      <td>0</td>\n",
       "    </tr>\n",
       "  </tbody>\n",
       "</table>\n",
       "<p>5140 rows × 7 columns</p>\n",
       "</div>"
      ],
      "text/plain": [
       "                                 Open        High         Low       Close  \\\n",
       "Date                                                                        \n",
       "2002-05-23 00:00:00-04:00    1.156429    1.242857    1.145714    1.196429   \n",
       "2002-05-24 00:00:00-04:00    1.214286    1.225000    1.197143    1.210000   \n",
       "2002-05-28 00:00:00-04:00    1.213571    1.232143    1.157143    1.157143   \n",
       "2002-05-29 00:00:00-04:00    1.164286    1.164286    1.085714    1.103571   \n",
       "2002-05-30 00:00:00-04:00    1.107857    1.107857    1.071429    1.071429   \n",
       "...                               ...         ...         ...         ...   \n",
       "2022-10-14 00:00:00-04:00  237.800003  238.800003  229.509995  230.000000   \n",
       "2022-10-17 00:00:00-04:00  234.410004  249.919998  234.399994  245.100006   \n",
       "2022-10-18 00:00:00-04:00  249.800003  250.369995  237.729996  240.860001   \n",
       "2022-10-19 00:00:00-04:00  265.000000  279.299988  262.660004  272.380005   \n",
       "2022-10-20 00:00:00-04:00  272.779999  278.380005  266.380005  268.160004   \n",
       "\n",
       "                              Volume    Tomorrow  Target  \n",
       "Date                                                      \n",
       "2002-05-23 00:00:00-04:00  104790000    1.210000       1  \n",
       "2002-05-24 00:00:00-04:00   11104800    1.157143       0  \n",
       "2002-05-28 00:00:00-04:00    6609400    1.103571       0  \n",
       "2002-05-29 00:00:00-04:00    6757800    1.071429       0  \n",
       "2002-05-30 00:00:00-04:00   10154200    1.076429       1  \n",
       "...                              ...         ...     ...  \n",
       "2022-10-14 00:00:00-04:00   15275700  245.100006       1  \n",
       "2022-10-17 00:00:00-04:00   21057800  240.860001       0  \n",
       "2022-10-18 00:00:00-04:00   25776700  272.380005       1  \n",
       "2022-10-19 00:00:00-04:00   46685300  268.160004       0  \n",
       "2022-10-20 00:00:00-04:00   17183700         NaN       0  \n",
       "\n",
       "[5140 rows x 7 columns]"
      ]
     },
     "execution_count": 101,
     "metadata": {},
     "output_type": "execute_result"
    }
   ],
   "source": [
    "sp500"
   ]
  },
  {
   "cell_type": "markdown",
   "id": "64d5df94",
   "metadata": {},
   "source": [
    "### Training the model\n",
    "\n",
    "Estimators are the number of decision trees\n",
    "\n",
    "Min Sample Split protects against overfitting but can cause less accuracy as the value increases\n",
    "\n",
    "A Random State value allows results to always be the same \n"
   ]
  },
  {
   "cell_type": "code",
   "execution_count": 102,
   "id": "29ac323b",
   "metadata": {},
   "outputs": [
    {
     "data": {
      "text/plain": [
       "RandomForestClassifier(min_samples_split=100, random_state=1)"
      ]
     },
     "execution_count": 102,
     "metadata": {},
     "output_type": "execute_result"
    }
   ],
   "source": [
    "model = rfc(n_estimators=100,min_samples_split=100,random_state=1)\n",
    "# Put all but last 100 rows into training set\n",
    "# Put the remaining rows into the test set\n",
    "train=sp500.iloc[:-100]\n",
    "test=sp500.iloc[-100:]\n",
    "\n",
    "# Train using the following columns and predict Target\n",
    "predictors=[\"Close\",\"Volume\",\"Open\",\"High\",\"Low\"]\n",
    "model.fit(train[predictors], train[\"Target\"])"
   ]
  },
  {
   "cell_type": "code",
   "execution_count": 103,
   "id": "17ec349b",
   "metadata": {},
   "outputs": [],
   "source": [
    "# Geneate predictions using the prediction test set then \n",
    "# convert this numpy array to a pandas series\n",
    "preds = model.predict(test[predictors])\n",
    "preds = pd.Series(preds,index=test.index)"
   ]
  },
  {
   "cell_type": "code",
   "execution_count": 104,
   "id": "6d77caed",
   "metadata": {},
   "outputs": [
    {
     "data": {
      "text/plain": [
       "Date\n",
       "2022-05-31 00:00:00-04:00    1\n",
       "2022-06-01 00:00:00-04:00    1\n",
       "2022-06-02 00:00:00-04:00    1\n",
       "2022-06-03 00:00:00-04:00    1\n",
       "2022-06-06 00:00:00-04:00    1\n",
       "                            ..\n",
       "2022-10-14 00:00:00-04:00    1\n",
       "2022-10-17 00:00:00-04:00    1\n",
       "2022-10-18 00:00:00-04:00    1\n",
       "2022-10-19 00:00:00-04:00    0\n",
       "2022-10-20 00:00:00-04:00    1\n",
       "Length: 100, dtype: int32"
      ]
     },
     "execution_count": 104,
     "metadata": {},
     "output_type": "execute_result"
    }
   ],
   "source": [
    "preds"
   ]
  },
  {
   "cell_type": "code",
   "execution_count": 105,
   "id": "d32dbaeb",
   "metadata": {},
   "outputs": [
    {
     "data": {
      "text/plain": [
       "0.4725274725274725"
      ]
     },
     "execution_count": 105,
     "metadata": {},
     "output_type": "execute_result"
    }
   ],
   "source": [
    "# Calculate precision using the target and predicted target\n",
    "precision_score(test[\"Target\"],preds)"
   ]
  },
  {
   "cell_type": "markdown",
   "id": "89fca69d",
   "metadata": {},
   "source": [
    "Combine test and predicted values and plot to see how they line up"
   ]
  },
  {
   "cell_type": "code",
   "execution_count": 106,
   "id": "5ab0db64",
   "metadata": {},
   "outputs": [
    {
     "data": {
      "text/plain": [
       "<AxesSubplot:xlabel='Date'>"
      ]
     },
     "execution_count": 106,
     "metadata": {},
     "output_type": "execute_result"
    },
    {
     "data": {
      "image/png": "[encoded data removed]",
      "text/plain": [
       "<Figure size 432x288 with 1 Axes>"
      ]
     },
     "metadata": {
      "needs_background": "light"
     },
     "output_type": "display_data"
    }
   ],
   "source": [
    "combined = pd.concat([test[\"Target\"],preds],axis=1)\n",
    "combined.plot()"
   ]
  },
  {
   "cell_type": "markdown",
   "id": "2994662c",
   "metadata": {},
   "source": [
    "Create a Predict function and a Backtest function \n",
    "\n",
    "The purpose of this is to allow us to backtest over multiple years of data to gain a more accurate prediction \n",
    "\n",
    "We wrap all of our code above into a singular prediction function so it can be called when backtesting"
   ]
  },
  {
   "cell_type": "code",
   "execution_count": 107,
   "id": "6b99e7dc",
   "metadata": {},
   "outputs": [],
   "source": [
    "def predict(train,test,predictors,model):\n",
    "    model.fit(train[predictors], train[\"Target\"])\n",
    "    preds=model.predict(test[predictors])\n",
    "    preds=pd.Series(preds,index=test.index,name=\"Predictions\")\n",
    "    combined=pd.concat([test[\"Target\"],preds],axis=1)\n",
    "    return combined"
   ]
  },
  {
   "cell_type": "code",
   "execution_count": 108,
   "id": "ab82eb7d",
   "metadata": {},
   "outputs": [],
   "source": [
    "# With every year having ~250 days of trading\n",
    "# We use start of 2500 to go through 10 years of data\n",
    "# Looping through 10 years of data we can predict the 11th year\n",
    "# Looping through the 11 years we can then predict the 12th year\n",
    "# We repeat this so we can predict various years for more\n",
    "# accuracy and confidence in our model\n",
    "# We then combine all of these predictions \n",
    "def backtest(data,model,predictors,start=2500,step=250):\n",
    "    all_predictions=[]\n",
    "    \n",
    "    for i in range(start,data.shape[0],step):\n",
    "        train=data.iloc[0:i].copy()\n",
    "        test=data.iloc[i:(i+step)]\n",
    "        predictions=predict(train,test,predictors,model)\n",
    "        all_predictions.append(predictions)\n",
    "    return pd.concat(all_predictions)"
   ]
  },
  {
   "cell_type": "code",
   "execution_count": 109,
   "id": "a68e267f",
   "metadata": {
    "scrolled": true
   },
   "outputs": [],
   "source": [
    "predictions=backtest(sp500,model,predictors)"
   ]
  },
  {
   "cell_type": "markdown",
   "id": "90b80cb1",
   "metadata": {},
   "source": [
    "Count our predictions\n",
    "\n",
    "0 being days that the market goes down\n",
    "\n",
    "1 being days that the market goes up\n",
    "\n",
    "We then get the percentage of days our algorithm was accurate and compare it to the actual data"
   ]
  },
  {
   "cell_type": "code",
   "execution_count": 110,
   "id": "ed97ab07",
   "metadata": {},
   "outputs": [
    {
     "data": {
      "text/plain": [
       "0    1802\n",
       "1     838\n",
       "Name: Predictions, dtype: int64"
      ]
     },
     "execution_count": 110,
     "metadata": {},
     "output_type": "execute_result"
    }
   ],
   "source": [
    "predictions[\"Predictions\"].value_counts()"
   ]
  },
  {
   "cell_type": "code",
   "execution_count": 111,
   "id": "eca6245c",
   "metadata": {},
   "outputs": [
    {
     "data": {
      "text/plain": [
       "0.5346062052505967"
      ]
     },
     "execution_count": 111,
     "metadata": {},
     "output_type": "execute_result"
    }
   ],
   "source": [
    "precision_score(predictions[\"Target\"],predictions[\"Predictions\"])"
   ]
  },
  {
   "cell_type": "code",
   "execution_count": 112,
   "id": "a0294d32",
   "metadata": {},
   "outputs": [
    {
     "data": {
      "text/plain": [
       "1    0.507576\n",
       "0    0.492424\n",
       "Name: Target, dtype: float64"
      ]
     },
     "execution_count": 112,
     "metadata": {},
     "output_type": "execute_result"
    }
   ],
   "source": [
    "predictions[\"Target\"].value_counts() / predictions.shape[0]"
   ]
  },
  {
   "cell_type": "markdown",
   "id": "44796ef7",
   "metadata": {},
   "source": [
    "Now we can add more predictors to our model to improve accuracy\n",
    "\n",
    "We get the mean closing price of each horizon(each being a set amount of trading days) and getting the ratio of the closing price of those time periods vs todays closing price\n",
    "\n",
    "Then we give this to the algorithm so it can make better predictions"
   ]
  },
  {
   "cell_type": "code",
   "execution_count": 113,
   "id": "51f83f7d",
   "metadata": {},
   "outputs": [],
   "source": [
    "horizons = [2,5,60,250,1000]\n",
    "new_predictors = []\n",
    "\n",
    "# Loop through each horizon \n",
    "# Get the ratio of the closing price and the mean closing price \n",
    "# of each horizon\n",
    "for horizon in horizons:\n",
    "    rolling_average=sp500.rolling(horizon).mean()\n",
    "    \n",
    "    ratio_column=f\"Close_Ratio_{horizon}\"\n",
    "    sp500[ratio_column]=sp500[\"Close\"]/rolling_average[\"Close\"]\n",
    "    \n",
    "    trend_column=f\"Trend_{horizon}\"\n",
    "    sp500[trend_column]=sp500.shift(1).rolling(horizon).sum()[\"Target\"]\n",
    "    \n",
    "    new_predictors+=[ratio_column,trend_column]"
   ]
  },
  {
   "cell_type": "code",
   "execution_count": 114,
   "id": "fa0865b1",
   "metadata": {},
   "outputs": [],
   "source": [
    "# Drop data that wasnt calculated due to missing data required\n",
    "# for each horizon\n",
    "sp500=sp500.dropna()"
   ]
  },
  {
   "cell_type": "code",
   "execution_count": 115,
   "id": "10a40537",
   "metadata": {},
   "outputs": [
    {
     "data": {
      "text/html": [
       "<div>\n",
       "<style scoped>\n",
       "    .dataframe tbody tr th:only-of-type {\n",
       "        vertical-align: middle;\n",
       "    }\n",
       "\n",
       "    .dataframe tbody tr th {\n",
       "        vertical-align: top;\n",
       "    }\n",
       "\n",
       "    .dataframe thead th {\n",
       "        text-align: right;\n",
       "    }\n",
       "</style>\n",
       "<table border=\"1\" class=\"dataframe\">\n",
       "  <thead>\n",
       "    <tr style=\"text-align: right;\">\n",
       "      <th></th>\n",
       "      <th>Open</th>\n",
       "      <th>High</th>\n",
       "      <th>Low</th>\n",
       "      <th>Close</th>\n",
       "      <th>Volume</th>\n",
       "      <th>Tomorrow</th>\n",
       "      <th>Target</th>\n",
       "      <th>Close_Ratio_2</th>\n",
       "      <th>Trend_2</th>\n",
       "      <th>Close_Ratio_5</th>\n",
       "      <th>Trend_5</th>\n",
       "      <th>Close_Ratio_60</th>\n",
       "      <th>Trend_60</th>\n",
       "      <th>Close_Ratio_250</th>\n",
       "      <th>Trend_250</th>\n",
       "      <th>Close_Ratio_1000</th>\n",
       "      <th>Trend_1000</th>\n",
       "    </tr>\n",
       "    <tr>\n",
       "      <th>Date</th>\n",
       "      <th></th>\n",
       "      <th></th>\n",
       "      <th></th>\n",
       "      <th></th>\n",
       "      <th></th>\n",
       "      <th></th>\n",
       "      <th></th>\n",
       "      <th></th>\n",
       "      <th></th>\n",
       "      <th></th>\n",
       "      <th></th>\n",
       "      <th></th>\n",
       "      <th></th>\n",
       "      <th></th>\n",
       "      <th></th>\n",
       "      <th></th>\n",
       "      <th></th>\n",
       "    </tr>\n",
       "  </thead>\n",
       "  <tbody>\n",
       "    <tr>\n",
       "      <th>2006-05-12 00:00:00-04:00</th>\n",
       "      <td>4.250000</td>\n",
       "      <td>4.250000</td>\n",
       "      <td>4.145714</td>\n",
       "      <td>4.227143</td>\n",
       "      <td>6456100</td>\n",
       "      <td>4.064286</td>\n",
       "      <td>0</td>\n",
       "      <td>0.997136</td>\n",
       "      <td>0.0</td>\n",
       "      <td>0.979931</td>\n",
       "      <td>2.0</td>\n",
       "      <td>1.051678</td>\n",
       "      <td>36.0</td>\n",
       "      <td>1.225372</td>\n",
       "      <td>134.0</td>\n",
       "      <td>1.674830</td>\n",
       "      <td>496.0</td>\n",
       "    </tr>\n",
       "    <tr>\n",
       "      <th>2006-05-15 00:00:00-04:00</th>\n",
       "      <td>4.192857</td>\n",
       "      <td>4.238571</td>\n",
       "      <td>4.004286</td>\n",
       "      <td>4.064286</td>\n",
       "      <td>7114800</td>\n",
       "      <td>4.094286</td>\n",
       "      <td>1</td>\n",
       "      <td>0.980358</td>\n",
       "      <td>0.0</td>\n",
       "      <td>0.951951</td>\n",
       "      <td>2.0</td>\n",
       "      <td>1.009187</td>\n",
       "      <td>35.0</td>\n",
       "      <td>1.175443</td>\n",
       "      <td>134.0</td>\n",
       "      <td>1.608486</td>\n",
       "      <td>495.0</td>\n",
       "    </tr>\n",
       "    <tr>\n",
       "      <th>2006-05-16 00:00:00-04:00</th>\n",
       "      <td>4.071429</td>\n",
       "      <td>4.194286</td>\n",
       "      <td>4.058571</td>\n",
       "      <td>4.094286</td>\n",
       "      <td>6390300</td>\n",
       "      <td>4.012857</td>\n",
       "      <td>0</td>\n",
       "      <td>1.003677</td>\n",
       "      <td>1.0</td>\n",
       "      <td>0.972382</td>\n",
       "      <td>2.0</td>\n",
       "      <td>1.014430</td>\n",
       "      <td>36.0</td>\n",
       "      <td>1.181550</td>\n",
       "      <td>134.0</td>\n",
       "      <td>1.618477</td>\n",
       "      <td>496.0</td>\n",
       "    </tr>\n",
       "    <tr>\n",
       "      <th>2006-05-17 00:00:00-04:00</th>\n",
       "      <td>4.101429</td>\n",
       "      <td>4.115714</td>\n",
       "      <td>4.008571</td>\n",
       "      <td>4.012857</td>\n",
       "      <td>6195700</td>\n",
       "      <td>3.958571</td>\n",
       "      <td>0</td>\n",
       "      <td>0.989956</td>\n",
       "      <td>1.0</td>\n",
       "      <td>0.971636</td>\n",
       "      <td>1.0</td>\n",
       "      <td>0.992878</td>\n",
       "      <td>35.0</td>\n",
       "      <td>1.155771</td>\n",
       "      <td>133.0</td>\n",
       "      <td>1.584466</td>\n",
       "      <td>496.0</td>\n",
       "    </tr>\n",
       "    <tr>\n",
       "      <th>2006-05-18 00:00:00-04:00</th>\n",
       "      <td>4.005714</td>\n",
       "      <td>4.101429</td>\n",
       "      <td>3.955714</td>\n",
       "      <td>3.958571</td>\n",
       "      <td>4592700</td>\n",
       "      <td>3.981429</td>\n",
       "      <td>1</td>\n",
       "      <td>0.993190</td>\n",
       "      <td>0.0</td>\n",
       "      <td>0.972281</td>\n",
       "      <td>1.0</td>\n",
       "      <td>0.978673</td>\n",
       "      <td>34.0</td>\n",
       "      <td>1.137930</td>\n",
       "      <td>133.0</td>\n",
       "      <td>1.561251</td>\n",
       "      <td>496.0</td>\n",
       "    </tr>\n",
       "    <tr>\n",
       "      <th>...</th>\n",
       "      <td>...</td>\n",
       "      <td>...</td>\n",
       "      <td>...</td>\n",
       "      <td>...</td>\n",
       "      <td>...</td>\n",
       "      <td>...</td>\n",
       "      <td>...</td>\n",
       "      <td>...</td>\n",
       "      <td>...</td>\n",
       "      <td>...</td>\n",
       "      <td>...</td>\n",
       "      <td>...</td>\n",
       "      <td>...</td>\n",
       "      <td>...</td>\n",
       "      <td>...</td>\n",
       "      <td>...</td>\n",
       "      <td>...</td>\n",
       "    </tr>\n",
       "    <tr>\n",
       "      <th>2022-10-13 00:00:00-04:00</th>\n",
       "      <td>212.690002</td>\n",
       "      <td>234.470001</td>\n",
       "      <td>211.729996</td>\n",
       "      <td>232.509995</td>\n",
       "      <td>17505000</td>\n",
       "      <td>230.000000</td>\n",
       "      <td>0</td>\n",
       "      <td>1.025674</td>\n",
       "      <td>2.0</td>\n",
       "      <td>1.035772</td>\n",
       "      <td>3.0</td>\n",
       "      <td>1.006004</td>\n",
       "      <td>30.0</td>\n",
       "      <td>0.646979</td>\n",
       "      <td>113.0</td>\n",
       "      <td>0.573573</td>\n",
       "      <td>507.0</td>\n",
       "    </tr>\n",
       "    <tr>\n",
       "      <th>2022-10-14 00:00:00-04:00</th>\n",
       "      <td>237.800003</td>\n",
       "      <td>238.800003</td>\n",
       "      <td>229.509995</td>\n",
       "      <td>230.000000</td>\n",
       "      <td>15275700</td>\n",
       "      <td>245.100006</td>\n",
       "      <td>1</td>\n",
       "      <td>0.994573</td>\n",
       "      <td>1.0</td>\n",
       "      <td>1.019820</td>\n",
       "      <td>3.0</td>\n",
       "      <td>0.994705</td>\n",
       "      <td>29.0</td>\n",
       "      <td>0.642915</td>\n",
       "      <td>112.0</td>\n",
       "      <td>0.567482</td>\n",
       "      <td>507.0</td>\n",
       "    </tr>\n",
       "    <tr>\n",
       "      <th>2022-10-17 00:00:00-04:00</th>\n",
       "      <td>234.410004</td>\n",
       "      <td>249.919998</td>\n",
       "      <td>234.399994</td>\n",
       "      <td>245.100006</td>\n",
       "      <td>21057800</td>\n",
       "      <td>240.860001</td>\n",
       "      <td>0</td>\n",
       "      <td>1.031783</td>\n",
       "      <td>1.0</td>\n",
       "      <td>1.072394</td>\n",
       "      <td>3.0</td>\n",
       "      <td>1.058129</td>\n",
       "      <td>30.0</td>\n",
       "      <td>0.688154</td>\n",
       "      <td>112.0</td>\n",
       "      <td>0.604839</td>\n",
       "      <td>507.0</td>\n",
       "    </tr>\n",
       "    <tr>\n",
       "      <th>2022-10-18 00:00:00-04:00</th>\n",
       "      <td>249.800003</td>\n",
       "      <td>250.369995</td>\n",
       "      <td>237.729996</td>\n",
       "      <td>240.860001</td>\n",
       "      <td>25776700</td>\n",
       "      <td>272.380005</td>\n",
       "      <td>1</td>\n",
       "      <td>0.991275</td>\n",
       "      <td>1.0</td>\n",
       "      <td>1.029897</td>\n",
       "      <td>3.0</td>\n",
       "      <td>1.038155</td>\n",
       "      <td>30.0</td>\n",
       "      <td>0.679181</td>\n",
       "      <td>112.0</td>\n",
       "      <td>0.594463</td>\n",
       "      <td>507.0</td>\n",
       "    </tr>\n",
       "    <tr>\n",
       "      <th>2022-10-19 00:00:00-04:00</th>\n",
       "      <td>265.000000</td>\n",
       "      <td>279.299988</td>\n",
       "      <td>262.660004</td>\n",
       "      <td>272.380005</td>\n",
       "      <td>46685300</td>\n",
       "      <td>268.160004</td>\n",
       "      <td>0</td>\n",
       "      <td>1.061414</td>\n",
       "      <td>1.0</td>\n",
       "      <td>1.115534</td>\n",
       "      <td>3.0</td>\n",
       "      <td>1.169102</td>\n",
       "      <td>31.0</td>\n",
       "      <td>0.771374</td>\n",
       "      <td>112.0</td>\n",
       "      <td>0.672277</td>\n",
       "      <td>508.0</td>\n",
       "    </tr>\n",
       "  </tbody>\n",
       "</table>\n",
       "<p>4139 rows × 17 columns</p>\n",
       "</div>"
      ],
      "text/plain": [
       "                                 Open        High         Low       Close  \\\n",
       "Date                                                                        \n",
       "2006-05-12 00:00:00-04:00    4.250000    4.250000    4.145714    4.227143   \n",
       "2006-05-15 00:00:00-04:00    4.192857    4.238571    4.004286    4.064286   \n",
       "2006-05-16 00:00:00-04:00    4.071429    4.194286    4.058571    4.094286   \n",
       "2006-05-17 00:00:00-04:00    4.101429    4.115714    4.008571    4.012857   \n",
       "2006-05-18 00:00:00-04:00    4.005714    4.101429    3.955714    3.958571   \n",
       "...                               ...         ...         ...         ...   \n",
       "2022-10-13 00:00:00-04:00  212.690002  234.470001  211.729996  232.509995   \n",
       "2022-10-14 00:00:00-04:00  237.800003  238.800003  229.509995  230.000000   \n",
       "2022-10-17 00:00:00-04:00  234.410004  249.919998  234.399994  245.100006   \n",
       "2022-10-18 00:00:00-04:00  249.800003  250.369995  237.729996  240.860001   \n",
       "2022-10-19 00:00:00-04:00  265.000000  279.299988  262.660004  272.380005   \n",
       "\n",
       "                             Volume    Tomorrow  Target  Close_Ratio_2  \\\n",
       "Date                                                                     \n",
       "2006-05-12 00:00:00-04:00   6456100    4.064286       0       0.997136   \n",
       "2006-05-15 00:00:00-04:00   7114800    4.094286       1       0.980358   \n",
       "2006-05-16 00:00:00-04:00   6390300    4.012857       0       1.003677   \n",
       "2006-05-17 00:00:00-04:00   6195700    3.958571       0       0.989956   \n",
       "2006-05-18 00:00:00-04:00   4592700    3.981429       1       0.993190   \n",
       "...                             ...         ...     ...            ...   \n",
       "2022-10-13 00:00:00-04:00  17505000  230.000000       0       1.025674   \n",
       "2022-10-14 00:00:00-04:00  15275700  245.100006       1       0.994573   \n",
       "2022-10-17 00:00:00-04:00  21057800  240.860001       0       1.031783   \n",
       "2022-10-18 00:00:00-04:00  25776700  272.380005       1       0.991275   \n",
       "2022-10-19 00:00:00-04:00  46685300  268.160004       0       1.061414   \n",
       "\n",
       "                           Trend_2  Close_Ratio_5  Trend_5  Close_Ratio_60  \\\n",
       "Date                                                                         \n",
       "2006-05-12 00:00:00-04:00      0.0       0.979931      2.0        1.051678   \n",
       "2006-05-15 00:00:00-04:00      0.0       0.951951      2.0        1.009187   \n",
       "2006-05-16 00:00:00-04:00      1.0       0.972382      2.0        1.014430   \n",
       "2006-05-17 00:00:00-04:00      1.0       0.971636      1.0        0.992878   \n",
       "2006-05-18 00:00:00-04:00      0.0       0.972281      1.0        0.978673   \n",
       "...                            ...            ...      ...             ...   \n",
       "2022-10-13 00:00:00-04:00      2.0       1.035772      3.0        1.006004   \n",
       "2022-10-14 00:00:00-04:00      1.0       1.019820      3.0        0.994705   \n",
       "2022-10-17 00:00:00-04:00      1.0       1.072394      3.0        1.058129   \n",
       "2022-10-18 00:00:00-04:00      1.0       1.029897      3.0        1.038155   \n",
       "2022-10-19 00:00:00-04:00      1.0       1.115534      3.0        1.169102   \n",
       "\n",
       "                           Trend_60  Close_Ratio_250  Trend_250  \\\n",
       "Date                                                              \n",
       "2006-05-12 00:00:00-04:00      36.0         1.225372      134.0   \n",
       "2006-05-15 00:00:00-04:00      35.0         1.175443      134.0   \n",
       "2006-05-16 00:00:00-04:00      36.0         1.181550      134.0   \n",
       "2006-05-17 00:00:00-04:00      35.0         1.155771      133.0   \n",
       "2006-05-18 00:00:00-04:00      34.0         1.137930      133.0   \n",
       "...                             ...              ...        ...   \n",
       "2022-10-13 00:00:00-04:00      30.0         0.646979      113.0   \n",
       "2022-10-14 00:00:00-04:00      29.0         0.642915      112.0   \n",
       "2022-10-17 00:00:00-04:00      30.0         0.688154      112.0   \n",
       "2022-10-18 00:00:00-04:00      30.0         0.679181      112.0   \n",
       "2022-10-19 00:00:00-04:00      31.0         0.771374      112.0   \n",
       "\n",
       "                           Close_Ratio_1000  Trend_1000  \n",
       "Date                                                     \n",
       "2006-05-12 00:00:00-04:00          1.674830       496.0  \n",
       "2006-05-15 00:00:00-04:00          1.608486       495.0  \n",
       "2006-05-16 00:00:00-04:00          1.618477       496.0  \n",
       "2006-05-17 00:00:00-04:00          1.584466       496.0  \n",
       "2006-05-18 00:00:00-04:00          1.561251       496.0  \n",
       "...                                     ...         ...  \n",
       "2022-10-13 00:00:00-04:00          0.573573       507.0  \n",
       "2022-10-14 00:00:00-04:00          0.567482       507.0  \n",
       "2022-10-17 00:00:00-04:00          0.604839       507.0  \n",
       "2022-10-18 00:00:00-04:00          0.594463       507.0  \n",
       "2022-10-19 00:00:00-04:00          0.672277       508.0  \n",
       "\n",
       "[4139 rows x 17 columns]"
      ]
     },
     "execution_count": 115,
     "metadata": {},
     "output_type": "execute_result"
    }
   ],
   "source": [
    "sp500"
   ]
  },
  {
   "cell_type": "markdown",
   "id": "2d8e89cb",
   "metadata": {},
   "source": [
    "Changing model parameters can help improve accuracy\n",
    "\n",
    "This changes based on each model\n",
    "\n",
    "Changing the predict function to make it more confident\n",
    "\n",
    "If the probability of the stock price going up is 55% or higher then indicate the price goes up on that day\n",
    "\n"
   ]
  },
  {
   "cell_type": "code",
   "execution_count": 148,
   "id": "bd520b0b",
   "metadata": {},
   "outputs": [],
   "source": [
    "model=rfc(n_estimators=200,min_samples_split=100,random_state=1)"
   ]
  },
  {
   "cell_type": "code",
   "execution_count": 149,
   "id": "0482f796",
   "metadata": {},
   "outputs": [],
   "source": [
    "def predict(train,test,predictors,model):\n",
    "    model.fit(train[predictors], train[\"Target\"])\n",
    "    preds=model.predict_proba(test[predictors])[:,1]\n",
    "    preds[preds>=.55]=1\n",
    "    preds[preds<.55]=0\n",
    "    preds=model.predict(test[predictors])\n",
    "    preds=pd.Series(preds,index=test.index,name=\"Predictions\")\n",
    "    combined=pd.concat([test[\"Target\"],preds],axis=1)\n",
    "    return combined"
   ]
  },
  {
   "cell_type": "markdown",
   "id": "2047818f",
   "metadata": {},
   "source": [
    "After altering the model we can see whether the improved model is more accurate "
   ]
  },
  {
   "cell_type": "code",
   "execution_count": 150,
   "id": "db16566f",
   "metadata": {},
   "outputs": [],
   "source": [
    "predictions=backtest(sp500,model,new_predictors)"
   ]
  },
  {
   "cell_type": "code",
   "execution_count": 151,
   "id": "f857eda9",
   "metadata": {},
   "outputs": [
    {
     "data": {
      "text/plain": [
       "1    1017\n",
       "0     622\n",
       "Name: Predictions, dtype: int64"
      ]
     },
     "execution_count": 151,
     "metadata": {},
     "output_type": "execute_result"
    }
   ],
   "source": [
    "predictions[\"Predictions\"].value_counts()"
   ]
  },
  {
   "cell_type": "code",
   "execution_count": 147,
   "id": "8290298a",
   "metadata": {},
   "outputs": [
    {
     "data": {
      "text/plain": [
       "0.5209205020920502"
      ]
     },
     "execution_count": 147,
     "metadata": {},
     "output_type": "execute_result"
    }
   ],
   "source": [
    "precision_score(predictions[\"Target\"],predictions[\"Predictions\"])"
   ]
  },
  {
   "cell_type": "code",
   "execution_count": null,
   "id": "6013df64",
   "metadata": {},
   "outputs": [],
   "source": []
  },
  {
   "cell_type": "code",
   "execution_count": null,
   "id": "5ae0ac94",
   "metadata": {},
   "outputs": [],
   "source": []
  }
 ],
 "metadata": {
  "kernelspec": {
   "display_name": "Python 3",
   "language": "python",
   "name": "python3"
  },
  "language_info": {
   "codemirror_mode": {
    "name": "ipython",
    "version": 3
   },
   "file_extension": ".py",
   "mimetype": "text/x-python",
   "name": "python",
   "nbconvert_exporter": "python",
   "pygments_lexer": "ipython3",
   "version": "3.8.8"
  }
 },
 "nbformat": 4,
 "nbformat_minor": 5
}
